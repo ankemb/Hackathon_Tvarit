{
  "nbformat": 4,
  "nbformat_minor": 0,
  "metadata": {
    "colab": {
      "name": "Pytorch_NST.ipynb",
      "provenance": [],
      "collapsed_sections": [],
      "include_colab_link": true
    },
    "kernelspec": {
      "name": "python3",
      "display_name": "Python 3"
    },
    "accelerator": "GPU"
  },
  "cells": [
    {
      "cell_type": "markdown",
      "metadata": {
        "id": "view-in-github",
        "colab_type": "text"
      },
      "source": [
        "<a href=\"https://colab.research.google.com/github/ankemb/Neural-Style-Transfer/blob/main/Pytorch_NST.ipynb\" target=\"_parent\"><img src=\"https://colab.research.google.com/assets/colab-badge.svg\" alt=\"Open In Colab\"/></a>"
      ]
    },
    {
      "cell_type": "code",
      "metadata": {
        "id": "L3HQYoc09Vjg"
      },
      "source": [
        ""
      ],
      "execution_count": null,
      "outputs": []
    },
    {
      "cell_type": "code",
      "metadata": {
        "id": "w7QUwc7m4SIZ"
      },
      "source": [
        "from __future__ import print_function\n",
        "\n",
        "import numpy\n",
        "import pandas\n",
        "import torch\n",
        "import torch.nn as nn\n",
        "import torch.nn.functional as F\n",
        "import torch.optim as optim\n",
        "\n",
        "from PIL import Image\n",
        "import matplotlib.pyplot as plt\n",
        "\n",
        "import torchvision.transforms as transforms\n",
        "import torchvision.models as models\n",
        "\n",
        "import copy\n",
        "\n",
        "\n",
        "plt.ion()"
      ],
      "execution_count": 1,
      "outputs": []
    },
    {
      "cell_type": "code",
      "metadata": {
        "id": "UtTYDVV-5sMI"
      },
      "source": [
        "\n",
        "def imshow(tensor, title=None):\n",
        "    unloader = transforms.ToPILImage()   # reconvert into PIL image\n",
        "    image = tensor.cpu().clone()  # we clone the tensor to not do changes on it\n",
        "    image = image.squeeze(0)      # remove the fake batch dimension\n",
        "    image = unloader(image)\n",
        "    plt.imshow(image)\n",
        "    if title is not None:\n",
        "        plt.title(title)\n",
        "    plt.pause(0.001) # pause a bit so that plots are updated"
      ],
      "execution_count": 2,
      "outputs": []
    },
    {
      "cell_type": "code",
      "metadata": {
        "id": "XX2U-TPm9cdh"
      },
      "source": [
        "class ContentLoss(nn.Module):\n",
        "\n",
        "    def __init__(self, target, type=\"L2\"):\n",
        "        super(ContentLoss, self).__init__()\n",
        "        # we 'detach' the target content from the tree used\n",
        "        # to dynamically compute the gradient: this is a stated value,\n",
        "        # not a variable. Otherwise the forward method of the criterion\n",
        "        # will throw an error.\n",
        "        self.target = target.detach()\n",
        "        self.type=type\n",
        "\n",
        "    def forward(self, input):\n",
        "        if self.type==\"L2\":\n",
        "            self.loss = F.mse_loss(input, self.target)\n",
        "        elif self.type==\"L1\":\n",
        "            self.loss = F.smooth_l1_loss(input, self.target)\n",
        "        return input\n",
        "\n",
        "def gram_matrix(input):\n",
        "    a, b, c, d = input.size()  # a=batch size(=1)\n",
        "    # b=number of feature maps\n",
        "    # (c,d)=dimensions of a f. map (N=c*d)\n",
        "\n",
        "    features = input.view(a * b, c * d)  # resise F_XL into \\hat F_XL\n",
        "\n",
        "    G = torch.mm(features, features.t())  # compute the gram product\n",
        "\n",
        "    # we 'normalize' the values of the gram matrix\n",
        "    # by dividing by the number of element in each feature maps.\n",
        "    return G.div(a * b * c * d)\n",
        "\n",
        "class StyleLoss(nn.Module):\n",
        "\n",
        "    def __init__(self, target_feature, type=\"L2\"):\n",
        "        super(StyleLoss, self).__init__()\n",
        "        self.target = gram_matrix(target_feature).detach()\n",
        "        self.type=type\n",
        "\n",
        "    def forward(self, input):\n",
        "        G = gram_matrix(input)\n",
        "        if self.type==\"L2\":\n",
        "            self.loss = F.mse_loss(G, self.target)\n",
        "        elif self.type==\"L1\":\n",
        "            self.loss = F.smooth_l1_loss(G, self.target)\n",
        "\n",
        "        return input\n",
        "\n",
        "# create a module to normalize input image so we can easily put it in a\n",
        "# nn.Sequential\n",
        "class Normalization(nn.Module):\n",
        "    def __init__(self, mean, std):\n",
        "        super(Normalization, self).__init__()\n",
        "        # .view the mean and std to make them [C x 1 x 1] so that they can\n",
        "        # directly work with image Tensor of shape [B x C x H x W].\n",
        "        # B is batch size. C is number of channels. H is height and W is width.\n",
        "        self.mean = torch.tensor(mean).view(-1, 1, 1)\n",
        "        self.std = torch.tensor(std).view(-1, 1, 1)\n",
        "\n",
        "    def forward(self, img):\n",
        "        # normalize img\n",
        "        return (img - self.mean) / self.std\n",
        "\n",
        "def get_style_model_and_losses(cnn, normalization_mean, normalization_std,\n",
        "                               style_img, content_img,\n",
        "                               content_layers,\n",
        "                               style_layers, loss_type=\"L2\"):\n",
        "    cnn = copy.deepcopy(cnn)\n",
        "\n",
        "    # normalization module\n",
        "    normalization = Normalization(normalization_mean, normalization_std).to(device)\n",
        "\n",
        "    # just in order to have an iterable access to or list of content/syle\n",
        "    # losses\n",
        "    content_losses = []\n",
        "    style_losses = []\n",
        "\n",
        "    # assuming that cnn is a nn.Sequential, so we make a new nn.Sequential\n",
        "    # to put in modules that are supposed to be activated sequentially\n",
        "    model = nn.Sequential(normalization)\n",
        "\n",
        "    i = 0  # increment every time we see a conv\n",
        "    for layer in cnn.children():\n",
        "        if isinstance(layer, nn.Conv2d):\n",
        "            i += 1\n",
        "            name = 'conv_{}'.format(i)\n",
        "        elif isinstance(layer, nn.ReLU):\n",
        "            name = 'relu_{}'.format(i)\n",
        "            # The in-place version doesn't play very nicely with the ContentLoss\n",
        "            # and StyleLoss we insert below. So we replace with out-of-place\n",
        "            # ones here.\n",
        "            layer = nn.ReLU(inplace=False)\n",
        "        elif isinstance(layer, nn.MaxPool2d):\n",
        "            name = 'pool_{}'.format(i)\n",
        "        elif isinstance(layer, nn.BatchNorm2d):\n",
        "            name = 'bn_{}'.format(i)\n",
        "        else:\n",
        "            raise RuntimeError('Unrecognized layer: {}'.format(layer.__class__.__name__))\n",
        "\n",
        "        model.add_module(name, layer)\n",
        "\n",
        "        if name in content_layers:\n",
        "            # add content loss:\n",
        "            target = model(content_img).detach()\n",
        "            content_loss = ContentLoss(target, type=loss_type)\n",
        "            model.add_module(\"content_loss_{}\".format(i), content_loss)\n",
        "            content_losses.append(content_loss)\n",
        "\n",
        "        if name in style_layers:\n",
        "            # add style loss:\n",
        "            target_feature = model(style_img).detach()\n",
        "            style_loss = StyleLoss(target_feature, type=loss_type)\n",
        "            model.add_module(\"style_loss_{}\".format(i), style_loss)\n",
        "            style_losses.append(style_loss)\n",
        "\n",
        "    # now we trim off the layers after the last content and style losses\n",
        "    for i in range(len(model) - 1, -1, -1):\n",
        "        if isinstance(model[i], ContentLoss) or isinstance(model[i], StyleLoss):\n",
        "            break\n",
        "\n",
        "    model = model[:(i + 1)]\n",
        "\n",
        "    return model, style_losses, content_losses\n",
        "\n",
        "def get_input_optimizer(input_img):\n",
        "    # this line to show that input is a parameter that requires a gradient\n",
        "    optimizer = optim.LBFGS([input_img.requires_grad_()])\n",
        "    return optimizer\n",
        "\n",
        "def run_style_transfer(cnn, normalization_mean, normalization_std,\n",
        "                       content_img, style_img, input_img, content_layers,\n",
        "                               style_layers, num_steps=300,\n",
        "                       style_weight=1000000, content_weight=1, loss_type=\"L2\"):\n",
        "    \"\"\"Run the style transfer.\"\"\"\n",
        "    print('Building the style transfer model..')\n",
        "    model, style_losses, content_losses = get_style_model_and_losses(cnn,\n",
        "        normalization_mean, normalization_std, style_img, content_img, content_layers,\n",
        "                               style_layers, loss_type=loss_type)\n",
        "    optimizer = get_input_optimizer(input_img)\n",
        "\n",
        "    print('Optimizing..')\n",
        "    total_loss = []\n",
        "    style_loss = []\n",
        "    content_loss = []\n",
        "    run = [0]\n",
        "    while run[0] <= num_steps:\n",
        "\n",
        "        def closure():\n",
        "            # correct the values of updated input image\n",
        "            input_img.data.clamp_(0, 1)\n",
        "\n",
        "            optimizer.zero_grad()\n",
        "            model(input_img)\n",
        "            style_score = 0\n",
        "            content_score = 0\n",
        "\n",
        "            for sl in style_losses:\n",
        "                style_score += sl.loss\n",
        "            for cl in content_losses:\n",
        "                content_score += cl.loss\n",
        "\n",
        "            style_score *= style_weight\n",
        "            content_score *= content_weight\n",
        "\n",
        "            loss = style_score + content_score\n",
        "            loss.backward()\n",
        "\n",
        "            total_loss.append(loss.item())\n",
        "            style_loss.append(style_score.item())\n",
        "            content_loss.append(content_score.item())\n",
        "\n",
        "            run[0] += 1\n",
        "            if run[0] % 50 == 0:\n",
        "                print(\"run {}:\".format(run))\n",
        "                print('Style Loss : {:4f} Content Loss: {:4f}'.format(\n",
        "                    style_score.item(), content_score.item()))\n",
        "                print()\n",
        "\n",
        "\n",
        "            return style_score + content_score\n",
        "\n",
        "        optimizer.step(closure)\n",
        "\n",
        "    losses = {}\n",
        "    losses[\"total_loss\"] = total_loss\n",
        "    losses[\"style_loss\"] = style_loss\n",
        "    losses[\"content_loss\"] = content_loss\n",
        "\n",
        "    # a last correction...\n",
        "    input_img.data.clamp_(0, 1)\n",
        "\n",
        "    return input_img, losses\n",
        "\n",
        "\n",
        "\n",
        "def image_loader(image_name):\n",
        "    image = Image.open(image_name)\n",
        "    # fake batch dimension required to fit network's input dimensions\n",
        "    image = loader(image).unsqueeze(0)\n",
        "    return image.to(device, torch.float)\n",
        "\n",
        "def image_loader(image_name, imsize):\n",
        "    \n",
        "    loader = transforms.Compose([\n",
        "        transforms.Resize((imsize, imsize)),  # scale imported image\n",
        "        transforms.ToTensor()])  # transform it into a torch tensor\n",
        "\n",
        "    image = Image.open(image_name).convert('RGB')\n",
        "    # fake batch dimension required to fit network's input dimensions\n",
        "    image = loader(image).unsqueeze(0)\n",
        "    return image.to(device, torch.float)"
      ],
      "execution_count": 3,
      "outputs": []
    },
    {
      "cell_type": "code",
      "metadata": {
        "id": "_G2z-Gwg9cb4"
      },
      "source": [
        ""
      ],
      "execution_count": 3,
      "outputs": []
    },
    {
      "cell_type": "code",
      "metadata": {
        "id": "isgSWCZk9cYs"
      },
      "source": [
        ""
      ],
      "execution_count": 3,
      "outputs": []
    },
    {
      "cell_type": "code",
      "metadata": {
        "id": "DGk8W9rW9cWL"
      },
      "source": [
        "# !mkdir \"./data\"\n",
        "# !mkdir \"./data/images\"\n",
        "# !mkdir \"./data/images/neural-style/\"\n",
        "\n",
        "# !wget https://pytorch.org/tutorials/_static/img/neural-style/picasso.jpg -P ./data/images/neural-style/\n",
        "# !wget https://pytorch.org/tutorials/_static/img/neural-style/dancing.jpg -P ./data/images/neural-style/"
      ],
      "execution_count": 4,
      "outputs": []
    },
    {
      "cell_type": "code",
      "metadata": {
        "id": "t6H227qej333"
      },
      "source": [
        "# from google.colab import files\n",
        "\n",
        "# imgs = files.upload()"
      ],
      "execution_count": 5,
      "outputs": []
    },
    {
      "cell_type": "code",
      "metadata": {
        "colab": {
          "base_uri": "https://localhost:8080/"
        },
        "id": "gjuCZjt1j30a",
        "outputId": "ab762b9c-f958-4430-a923-5232a4e8bd3a"
      },
      "source": [
        "!ls"
      ],
      "execution_count": 6,
      "outputs": [
        {
          "output_type": "stream",
          "text": [
            "sample_data\n"
          ],
          "name": "stdout"
        }
      ]
    },
    {
      "cell_type": "code",
      "metadata": {
        "colab": {
          "base_uri": "https://localhost:8080/"
        },
        "id": "zUEuePWRkIFi",
        "outputId": "29ffda70-a2dc-4480-c302-880e0a44756d"
      },
      "source": [
        "!unzip images.zip -d ./images"
      ],
      "execution_count": 7,
      "outputs": [
        {
          "output_type": "stream",
          "text": [
            "unzip:  cannot find or open images.zip, images.zip.zip or images.zip.ZIP.\n"
          ],
          "name": "stdout"
        }
      ]
    },
    {
      "cell_type": "code",
      "metadata": {
        "colab": {
          "base_uri": "https://localhost:8080/",
          "height": 217
        },
        "id": "EZzJUoE8kujH",
        "outputId": "06b1a21e-87c1-419d-abfa-c845911665e6"
      },
      "source": [
        "import os\n",
        "\n",
        "os.listdir(\"./images/images/content\")\n",
        "os.listdir(\"./images/images/style\")"
      ],
      "execution_count": 8,
      "outputs": [
        {
          "output_type": "error",
          "ename": "FileNotFoundError",
          "evalue": "ignored",
          "traceback": [
            "\u001b[0;31m---------------------------------------------------------------------------\u001b[0m",
            "\u001b[0;31mFileNotFoundError\u001b[0m                         Traceback (most recent call last)",
            "\u001b[0;32m<ipython-input-8-25d2856520b6>\u001b[0m in \u001b[0;36m<module>\u001b[0;34m()\u001b[0m\n\u001b[1;32m      1\u001b[0m \u001b[0;32mimport\u001b[0m \u001b[0mos\u001b[0m\u001b[0;34m\u001b[0m\u001b[0;34m\u001b[0m\u001b[0m\n\u001b[1;32m      2\u001b[0m \u001b[0;34m\u001b[0m\u001b[0m\n\u001b[0;32m----> 3\u001b[0;31m \u001b[0mos\u001b[0m\u001b[0;34m.\u001b[0m\u001b[0mlistdir\u001b[0m\u001b[0;34m(\u001b[0m\u001b[0;34m\"./images/images/content\"\u001b[0m\u001b[0;34m)\u001b[0m\u001b[0;34m\u001b[0m\u001b[0;34m\u001b[0m\u001b[0m\n\u001b[0m\u001b[1;32m      4\u001b[0m \u001b[0mos\u001b[0m\u001b[0;34m.\u001b[0m\u001b[0mlistdir\u001b[0m\u001b[0;34m(\u001b[0m\u001b[0;34m\"./images/images/style\"\u001b[0m\u001b[0;34m)\u001b[0m\u001b[0;34m\u001b[0m\u001b[0;34m\u001b[0m\u001b[0m\n",
            "\u001b[0;31mFileNotFoundError\u001b[0m: [Errno 2] No such file or directory: './images/images/content'"
          ]
        }
      ]
    },
    {
      "cell_type": "code",
      "metadata": {
        "id": "Ho9Nhr8AkIOl"
      },
      "source": [
        "device = torch.device(\"cuda\" if torch.cuda.is_available() else \"cpu\")\n",
        "\n",
        "# desired size of the output image\n",
        "imsize = 512 if torch.cuda.is_available() else 128  # use small size if no gpu\n",
        "\n",
        "# style_img = image_loader(\"./data/images/neural-style/picasso.jpg\", imsize)\n",
        "# content_img = image_loader(\"./data/images/neural-style/dancing.jpg\", imsize)\n",
        "\n",
        "contents = sorted(os.listdir(\"./images/images/content\"))\n",
        "styles = sorted(os.listdir(\"./images/images/style\"))"
      ],
      "execution_count": null,
      "outputs": []
    },
    {
      "cell_type": "code",
      "metadata": {
        "id": "0ITLwBRvtKPX"
      },
      "source": [
        "contents, styles"
      ],
      "execution_count": null,
      "outputs": []
    },
    {
      "cell_type": "code",
      "metadata": {
        "id": "GaGArr_01pMX"
      },
      "source": [
        "# cnn = models.vgg19(pretrained=True)#.features.to(device).eval()\n"
      ],
      "execution_count": null,
      "outputs": []
    },
    {
      "cell_type": "code",
      "metadata": {
        "id": "lyXtWDgK3AIO"
      },
      "source": [
        "# cnn"
      ],
      "execution_count": null,
      "outputs": []
    },
    {
      "cell_type": "code",
      "metadata": {
        "id": "ZZZRMr5z22zU"
      },
      "source": [
        "# cnn.features"
      ],
      "execution_count": null,
      "outputs": []
    },
    {
      "cell_type": "code",
      "metadata": {
        "id": "inC8C_Lj1pxh"
      },
      "source": [
        ""
      ],
      "execution_count": null,
      "outputs": []
    },
    {
      "cell_type": "code",
      "metadata": {
        "id": "HGJQlxWL1kdf"
      },
      "source": [
        ""
      ],
      "execution_count": null,
      "outputs": []
    },
    {
      "cell_type": "code",
      "metadata": {
        "id": "SO22CRL91kG4"
      },
      "source": [
        "# cnn = models.resnet18(pretrained=True)#.features.to(device).eval()"
      ],
      "execution_count": null,
      "outputs": []
    },
    {
      "cell_type": "code",
      "metadata": {
        "id": "-rwQH0321gD4"
      },
      "source": [
        "# cnn"
      ],
      "execution_count": null,
      "outputs": []
    },
    {
      "cell_type": "code",
      "metadata": {
        "id": "hM9WhpPS3Zel"
      },
      "source": [
        "# for layer in cnn.children():\n",
        "#     print(layer)"
      ],
      "execution_count": null,
      "outputs": []
    },
    {
      "cell_type": "code",
      "metadata": {
        "id": "d4XhXa-f3ZI1"
      },
      "source": [
        ""
      ],
      "execution_count": null,
      "outputs": []
    },
    {
      "cell_type": "code",
      "metadata": {
        "id": "pX0IdcgD3PUY"
      },
      "source": [
        ""
      ],
      "execution_count": null,
      "outputs": []
    },
    {
      "cell_type": "code",
      "metadata": {
        "id": "M5U9TtY75zbu"
      },
      "source": [
        "outputs_imgs = []\n",
        "style_imgs = []\n",
        "conten_imgs = []\n",
        "\n",
        "for style, content in zip(styles, contents):\n",
        "    print(style, content)\n",
        "\n",
        "    style_img = image_loader(\"./images/images/style/\"+style, imsize)\n",
        "    content_img = image_loader(\"./images/images/content/\"+content, imsize)\n",
        "\n",
        "\n",
        "    assert style_img.size() == content_img.size(), \\\n",
        "        \"we need to import style and content images of the same size\"\n",
        "\n",
        "    cnn_normalization_mean = torch.tensor([0.485, 0.456, 0.406]).to(device)\n",
        "    cnn_normalization_std = torch.tensor([0.229, 0.224, 0.225]).to(device)\n",
        "\n",
        "\n",
        "    # cnn = models.vgg19(pretrained=True).features.to(device).eval()\n",
        "    cnn = models.resnet18(pretrained=True)#.features.to(device).eval()\n",
        "\n",
        "    # input_img = content_img.clone()\n",
        "\n",
        "    input_img = content_img.clone().detach().requires_grad_(True)\n",
        "    # if you want to use white noise instead uncomment the below line:\n",
        "    # input_img = torch.randn(content_img.data.size(), device=device)\n",
        "\n",
        "    # desired depth layers to compute style/content losses :\n",
        "    content_layers_default = ['conv_1', 'conv_2', 'conv_3', 'conv_4', 'conv_5']\n",
        "    style_layers_default = ['conv_1', 'conv_2', 'conv_3', 'conv_4', 'conv_5']\n",
        "\n",
        "    output, losses = run_style_transfer(cnn, cnn_normalization_mean, cnn_normalization_std,\n",
        "                                content_img, style_img, input_img, content_layers_default,\n",
        "                                style_layers_default, num_steps=500, loss_type=\"L2\")\n",
        "    \n",
        "    outputs_imgs.append(output)\n",
        "    style_imgs.append(style_img)\n",
        "    conten_imgs.append(content_img)\n",
        "\n",
        "    losses = pandas.DataFrame(losses)\n",
        "    losses.to_csv(\"AIvengers_\"+(style.split(\".\")[0]).split(\"_\")[-1]+\".csv\", index=False)"
      ],
      "execution_count": null,
      "outputs": []
    },
    {
      "cell_type": "code",
      "metadata": {
        "id": "BiUeZRQypLNb"
      },
      "source": [
        "for style_img, content_img, output in zip(style_imgs, conten_imgs, outputs_imgs):\n",
        "    plt.figure()\n",
        "    imshow(style_img, title='Style Image')\n",
        "\n",
        "    plt.figure()\n",
        "    imshow(content_img, title='Content Image')\n",
        "\n",
        "    plt.figure()\n",
        "    imshow(output, title='Output Image')\n",
        "\n",
        "    # sphinx_gallery_thumbnail_number = 4\n",
        "    plt.ioff()\n",
        "    plt.show()"
      ],
      "execution_count": null,
      "outputs": []
    },
    {
      "cell_type": "code",
      "metadata": {
        "id": "ppOJKPC4s9CH"
      },
      "source": [
        "from google.colab import files\n"
      ],
      "execution_count": null,
      "outputs": []
    },
    {
      "cell_type": "code",
      "metadata": {
        "id": "uSR2vW0fs8ng"
      },
      "source": [
        "!ls"
      ],
      "execution_count": null,
      "outputs": []
    },
    {
      "cell_type": "code",
      "metadata": {
        "id": "xHS56dGUpKsN"
      },
      "source": [
        "\n",
        "\n",
        "files.download('AIvengers_4.csv') "
      ],
      "execution_count": null,
      "outputs": []
    },
    {
      "cell_type": "code",
      "metadata": {
        "id": "H65vtyAdyIu6"
      },
      "source": [
        "os.listdir(\".\")"
      ],
      "execution_count": null,
      "outputs": []
    },
    {
      "cell_type": "code",
      "metadata": {
        "id": "hv_vJH8i-EWI"
      },
      "source": [
        "total_losses = []\n",
        "style_losses = []\n",
        "content_losses = []\n",
        "for row, file in enumerate(sorted(os.listdir(path))):            \n",
        "    if \".csv\" in file:\n",
        "        img_ = (file.split(\".\")[0]).split(\"_\")[-1]\n",
        "        losses = pandas.read_csv(path+file)\n",
        "        print(losses.iloc[-1][0])\n",
        "\n",
        "        total_losses.append(losses.iloc[-1][0])\n",
        "        style_losses.append(losses.iloc[-1][1])\n",
        "        content_losses.append(losses.iloc[-1][2])\n",
        "\n",
        "        # mean_losses.append(losses.iloc[-1].values)\n",
        "\n",
        "\n"
      ],
      "execution_count": null,
      "outputs": []
    },
    {
      "cell_type": "code",
      "metadata": {
        "id": "9htm-yNW-ffk"
      },
      "source": [
        "np.mean(total_losses), np.mean(style_losses), np.mean(content_losses)"
      ],
      "execution_count": null,
      "outputs": []
    },
    {
      "cell_type": "code",
      "metadata": {
        "id": "lQOoM5Kk-p1_"
      },
      "source": [
        "import numpy as np"
      ],
      "execution_count": null,
      "outputs": []
    },
    {
      "cell_type": "code",
      "metadata": {
        "id": "CBmiizBy-paO"
      },
      "source": [
        ""
      ],
      "execution_count": null,
      "outputs": []
    },
    {
      "cell_type": "code",
      "metadata": {
        "id": "3aatsVOGyHeK"
      },
      "source": [
        "\n",
        "teams = [\"AIvengers\"]\n",
        "path = \"./\"\n",
        "\n",
        "# fig = plt.figure(fgsize=(15, 12))\n",
        "\n",
        "fig, axs = plt.subplots(4, 3, figsize=(15, 12))\n",
        "\n",
        "for team in teams:\n",
        "    for row, file in enumerate(sorted(os.listdir(path))):            \n",
        "        if \".csv\" in file:\n",
        "            img_ = (file.split(\".\")[0]).split(\"_\")[-1]\n",
        "\n",
        "            losses = pandas.read_csv(path+file)\n",
        "            for col, colname in enumerate(losses.columns):\n",
        "                axs[row, col].plot(losses[colname], label=team)\n",
        "                axs[row, col].set_title(colname)\n",
        "                axs[row, col].set_xlabel(\"iteration\")\n",
        "                axs[row, col].set_ylabel(\"Loss\")\n",
        "\n",
        "fig.tight_layout(rect=[0, 0.03, 1, 0.95]) \n"
      ],
      "execution_count": null,
      "outputs": []
    },
    {
      "cell_type": "code",
      "metadata": {
        "id": "E2fGs3LmyG6F"
      },
      "source": [
        ""
      ],
      "execution_count": null,
      "outputs": []
    },
    {
      "cell_type": "code",
      "metadata": {
        "id": "2sgN9zqF5zY8"
      },
      "source": [
        "plt.figure()\n",
        "imshow(style_img, title='Style Image')\n",
        "\n",
        "plt.figure()\n",
        "imshow(content_img, title='Content Image')\n",
        "\n",
        "plt.figure()\n",
        "imshow(output, title='Output Image')\n",
        "\n",
        "# sphinx_gallery_thumbnail_number = 4\n",
        "plt.ioff()\n",
        "plt.show()"
      ],
      "execution_count": null,
      "outputs": []
    },
    {
      "cell_type": "code",
      "metadata": {
        "id": "OmlH4Y6_oAA4"
      },
      "source": [
        "from sklearn.metrics.pairwise import euclidean_distances"
      ],
      "execution_count": null,
      "outputs": []
    },
    {
      "cell_type": "code",
      "metadata": {
        "id": "lNivSH2aoDyW"
      },
      "source": [
        "# euclidean_distances(output.detach().cpu().numpy().flatten().reshape(-1, 1), style_img.cpu().numpy().flatten().reshape(-1, 1))"
      ],
      "execution_count": null,
      "outputs": []
    },
    {
      "cell_type": "code",
      "metadata": {
        "id": "8wmeXqU6o9C1"
      },
      "source": [
        ""
      ],
      "execution_count": null,
      "outputs": []
    },
    {
      "cell_type": "code",
      "metadata": {
        "id": "RO-B4DEs5zQK"
      },
      "source": [
        ""
      ],
      "execution_count": null,
      "outputs": []
    },
    {
      "cell_type": "code",
      "metadata": {
        "id": "KPCFpHwN5zMk"
      },
      "source": [
        ""
      ],
      "execution_count": null,
      "outputs": []
    },
    {
      "cell_type": "code",
      "metadata": {
        "id": "PByHBjBn5zDO"
      },
      "source": [
        ""
      ],
      "execution_count": null,
      "outputs": []
    },
    {
      "cell_type": "code",
      "metadata": {
        "id": "0kCMRkXjlh1x"
      },
      "source": [
        "losses"
      ],
      "execution_count": null,
      "outputs": []
    },
    {
      "cell_type": "code",
      "metadata": {
        "id": "8ETsSRcJlj54"
      },
      "source": [
        ""
      ],
      "execution_count": null,
      "outputs": []
    }
  ]
}